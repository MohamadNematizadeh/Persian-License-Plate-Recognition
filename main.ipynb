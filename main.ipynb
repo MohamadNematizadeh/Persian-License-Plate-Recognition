{
  "nbformat": 4,
  "nbformat_minor": 0,
  "metadata": {
    "colab": {
      "private_outputs": true,
      "provenance": [],
      "gpuType": "T4"
    },
    "kernelspec": {
      "name": "python3",
      "display_name": "Python 3"
    },
    "language_info": {
      "name": "python"
    },
    "accelerator": "GPU"
  },
  "cells": [
    {
      "cell_type": "code",
      "execution_count": null,
      "metadata": {
        "id": "XdDj93L724A_"
      },
      "outputs": [],
      "source": [
        "!pip install ultralytics"
      ]
    },
    {
      "cell_type": "code",
      "source": [
        "from ultralytics import YOLO"
      ],
      "metadata": {
        "id": "9LwCkV95rlX2"
      },
      "execution_count": null,
      "outputs": []
    },
    {
      "cell_type": "code",
      "source": [
        "model = YOLO(\"yolov8x.pt\")"
      ],
      "metadata": {
        "id": "YEd1Z-wtsLDS"
      },
      "execution_count": null,
      "outputs": []
    },
    {
      "cell_type": "code",
      "source": [
        "model.train(data=\"/content/drive/MyDrive/Persian_License_Plate-Recognition/Persian_License_Plate_Recognition.yaml\",epochs=90)"
      ],
      "metadata": {
        "id": "KF8DlQqUrs-m"
      },
      "execution_count": null,
      "outputs": []
    },
    {
      "cell_type": "code",
      "source": [
        "import cv2\n",
        "import matplotlib.pyplot as plt\n",
        "new_model = YOLO(\"/content/drive/MyDrive/Persian_License_Plate-Recognition/weights/best.pt\")\n",
        "result_cv2 = cv2.imread(\"/content/3147e42a-d67f-4888-acb7-9c58ffe9ed2c.jpg\")\n",
        "result_car = new_model(result_cv2,save=True)"
      ],
      "metadata": {
        "id": "RihiHCGUZtCY"
      },
      "execution_count": null,
      "outputs": []
    },
    {
      "cell_type": "code",
      "source": [
        "result = cv2.imread(\"/content/runs/detect/predict10/image0.jpg\")\n",
        "result = cv2.cvtColor(result, cv2.COLOR_BGR2RGB)\n",
        "plt.imshow(result)\n",
        "plt.show()"
      ],
      "metadata": {
        "id": "VRdm9qBD3msg"
      },
      "execution_count": null,
      "outputs": []
    }
  ]
}
